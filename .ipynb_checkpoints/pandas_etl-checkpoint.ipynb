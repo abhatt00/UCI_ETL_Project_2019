{
 "cells": [
  {
   "cell_type": "code",
   "execution_count": 1,
   "metadata": {},
   "outputs": [],
   "source": [
    "import pandas as pd\n",
    "import json\n",
    "from sqlalchemy import create_engine\n",
    "from config import user,password"
   ]
  },
  {
   "cell_type": "markdown",
   "metadata": {},
   "source": [
    "### Extract CSVs into DataFrames"
   ]
  },
  {
   "cell_type": "code",
   "execution_count": 2,
   "metadata": {},
   "outputs": [],
   "source": [
    "json_file = '../Resources/20191103LALMIA.json'\n",
    "json_file = '../Resources/20191108LALMIA.json'\n",
    "json_file = '../Resources/20191108LALMIA.json'\n",
    "json_file = '../Resources/20191108LALMIA.json'\n",
    "json_file = '../Resources/20191108LALMIA.json'\n",
    "json_file = '../Resources/20191108LALMIA.json'\n",
    "\n",
    "if json_file:\n",
    "    with open(json_file, 'r') as f:\n",
    "        datastore = json.load(f)\n",
    "# dfdf = pd.read_json(json_file)\n",
    "# dfdf\n",
    "event= []\n",
    "clock= []\n",
    "description = []\n",
    "player_code = []\n",
    "person_id = []\n",
    "home_score = []\n",
    "visitor_score = []\n",
    "team_abr = []\n",
    "period = []\n",
    "datastore['sports_content']['game']['play']\n",
    "for i in datastore['sports_content']['game']['play']:\n",
    "    event.append(i['event'])\n",
    "    clock.append(i['clock'])\n",
    "    description.append(i['description'])\n",
    "    player_code.append(i['player_code'])\n",
    "    person_id.append(i['person_id'])\n",
    "    home_score.append(i['home_score'])\n",
    "    visitor_score.append(i['visitor_score'])\n",
    "    team_abr.append(i['team_abr'])\n",
    "    period.append(i['period'])\n"
   ]
  },
  {
   "cell_type": "code",
   "execution_count": 3,
   "metadata": {},
   "outputs": [
    {
     "data": {
      "text/html": [
       "<div>\n",
       "<style scoped>\n",
       "    .dataframe tbody tr th:only-of-type {\n",
       "        vertical-align: middle;\n",
       "    }\n",
       "\n",
       "    .dataframe tbody tr th {\n",
       "        vertical-align: top;\n",
       "    }\n",
       "\n",
       "    .dataframe thead th {\n",
       "        text-align: right;\n",
       "    }\n",
       "</style>\n",
       "<table border=\"1\" class=\"dataframe\">\n",
       "  <thead>\n",
       "    <tr style=\"text-align: right;\">\n",
       "      <th></th>\n",
       "      <th>event</th>\n",
       "      <th>clock</th>\n",
       "      <th>description</th>\n",
       "      <th>player_code</th>\n",
       "      <th>person_id</th>\n",
       "      <th>home_score</th>\n",
       "      <th>visitor_score</th>\n",
       "      <th>team_abr</th>\n",
       "      <th>period</th>\n",
       "    </tr>\n",
       "  </thead>\n",
       "  <tbody>\n",
       "    <tr>\n",
       "      <td>0</td>\n",
       "      <td>2</td>\n",
       "      <td></td>\n",
       "      <td>Start Period</td>\n",
       "      <td></td>\n",
       "      <td></td>\n",
       "      <td>0</td>\n",
       "      <td>0</td>\n",
       "      <td>MIA</td>\n",
       "      <td>1</td>\n",
       "    </tr>\n",
       "    <tr>\n",
       "      <td>1</td>\n",
       "      <td>4</td>\n",
       "      <td>11:54</td>\n",
       "      <td>Jump Ball Adebayo vs McGee (Butler gains posse...</td>\n",
       "      <td>bam_adebayo</td>\n",
       "      <td>1628389</td>\n",
       "      <td>0</td>\n",
       "      <td>0</td>\n",
       "      <td>LAL</td>\n",
       "      <td>1</td>\n",
       "    </tr>\n",
       "    <tr>\n",
       "      <td>2</td>\n",
       "      <td>7</td>\n",
       "      <td>11:34</td>\n",
       "      <td>[MIA] Nunn Driving Layup Shot: Missed Block: D...</td>\n",
       "      <td>kendrick_nunn</td>\n",
       "      <td>1629134</td>\n",
       "      <td>0</td>\n",
       "      <td>0</td>\n",
       "      <td>MIA</td>\n",
       "      <td>1</td>\n",
       "    </tr>\n",
       "    <tr>\n",
       "      <td>3</td>\n",
       "      <td>9</td>\n",
       "      <td>11:31</td>\n",
       "      <td>[LAL] Green Rebound (Off:0 Def:1)</td>\n",
       "      <td>danny_green</td>\n",
       "      <td>201980</td>\n",
       "      <td>0</td>\n",
       "      <td>0</td>\n",
       "      <td>LAL</td>\n",
       "      <td>1</td>\n",
       "    </tr>\n",
       "    <tr>\n",
       "      <td>4</td>\n",
       "      <td>10</td>\n",
       "      <td>11:25</td>\n",
       "      <td>[LAL 2-0] Bradley Driving Floating Bank Jump S...</td>\n",
       "      <td>avery_bradley</td>\n",
       "      <td>202340</td>\n",
       "      <td>2</td>\n",
       "      <td>0</td>\n",
       "      <td>LAL</td>\n",
       "      <td>1</td>\n",
       "    </tr>\n",
       "  </tbody>\n",
       "</table>\n",
       "</div>"
      ],
      "text/plain": [
       "  event  clock                                        description  \\\n",
       "0     2                                              Start Period   \n",
       "1     4  11:54  Jump Ball Adebayo vs McGee (Butler gains posse...   \n",
       "2     7  11:34  [MIA] Nunn Driving Layup Shot: Missed Block: D...   \n",
       "3     9  11:31                  [LAL] Green Rebound (Off:0 Def:1)   \n",
       "4    10  11:25  [LAL 2-0] Bradley Driving Floating Bank Jump S...   \n",
       "\n",
       "     player_code person_id home_score visitor_score team_abr period  \n",
       "0                                   0             0      MIA      1  \n",
       "1    bam_adebayo   1628389          0             0      LAL      1  \n",
       "2  kendrick_nunn   1629134          0             0      MIA      1  \n",
       "3    danny_green    201980          0             0      LAL      1  \n",
       "4  avery_bradley    202340          2             0      LAL      1  "
      ]
     },
     "execution_count": 3,
     "metadata": {},
     "output_type": "execute_result"
    }
   ],
   "source": [
    "gameframe = pd.DataFrame({'event' : event,'clock' : clock,'description' : description, 'player_code':player_code,'person_id':person_id,'home_score':home_score,'visitor_score':visitor_score,'team_abr':team_abr,'period':period})\n",
    "gameframe.head()"
   ]
  },
  {
   "cell_type": "code",
   "execution_count": 4,
   "metadata": {},
   "outputs": [],
   "source": [
    "rds_connection_string = user + \":\" + password + \"@localhost:5432/customer_db\"\n",
    "engine = create_engine(f'postgresql://{rds_connection_string}')"
   ]
  },
  {
   "cell_type": "code",
   "execution_count": 5,
   "metadata": {},
   "outputs": [
    {
     "data": {
      "text/plain": [
       "['customer_name', 'customer_location', 'premise', 'county', 'LALMIA20191108']"
      ]
     },
     "execution_count": 5,
     "metadata": {},
     "output_type": "execute_result"
    }
   ],
   "source": [
    "# Confirm tables\n",
    "engine.table_names()"
   ]
  },
  {
   "cell_type": "code",
   "execution_count": 6,
   "metadata": {},
   "outputs": [],
   "source": [
    "gameframe.to_sql(name='LALMIA20191108', con=engine, if_exists='append', index=False)"
   ]
  }
 ],
 "metadata": {
  "kernelspec": {
   "display_name": "Python 3",
   "language": "python",
   "name": "python3"
  },
  "language_info": {
   "codemirror_mode": {
    "name": "ipython",
    "version": 3
   },
   "file_extension": ".py",
   "mimetype": "text/x-python",
   "name": "python",
   "nbconvert_exporter": "python",
   "pygments_lexer": "ipython3",
   "version": "3.6.9"
  },
  "toc": {
   "base_numbering": 1,
   "nav_menu": {},
   "number_sections": true,
   "sideBar": true,
   "skip_h1_title": false,
   "title_cell": "Table of Contents",
   "title_sidebar": "Contents",
   "toc_cell": false,
   "toc_position": {},
   "toc_section_display": true,
   "toc_window_display": false
  }
 },
 "nbformat": 4,
 "nbformat_minor": 2
}
