{
 "cells": [
  {
   "cell_type": "code",
   "execution_count": 1,
   "metadata": {},
   "outputs": [],
   "source": [
    "import pandas as pd\n",
    "from sqlalchemy import create_engine\n",
    "from config import user,password"
   ]
  },
  {
   "cell_type": "markdown",
   "metadata": {},
   "source": [
    "### Extract CSVs into DataFrames"
   ]
  },
  {
   "cell_type": "code",
   "execution_count": 2,
   "metadata": {},
   "outputs": [
    {
     "data": {
      "text/html": [
       "<div>\n",
       "<style scoped>\n",
       "    .dataframe tbody tr th:only-of-type {\n",
       "        vertical-align: middle;\n",
       "    }\n",
       "\n",
       "    .dataframe tbody tr th {\n",
       "        vertical-align: top;\n",
       "    }\n",
       "\n",
       "    .dataframe thead th {\n",
       "        text-align: right;\n",
       "    }\n",
       "</style>\n",
       "<table border=\"1\" class=\"dataframe\">\n",
       "  <thead>\n",
       "    <tr style=\"text-align: right;\">\n",
       "      <th></th>\n",
       "      <th>player_name</th>\n",
       "      <th>player_id</th>\n",
       "      <th>season</th>\n",
       "      <th>poss</th>\n",
       "      <th>mp</th>\n",
       "      <th>raptor_box_offense</th>\n",
       "      <th>raptor_box_defense</th>\n",
       "      <th>raptor_box_total</th>\n",
       "      <th>raptor_onoff_offense</th>\n",
       "      <th>raptor_onoff_defense</th>\n",
       "      <th>...</th>\n",
       "      <th>raptor_offense</th>\n",
       "      <th>raptor_defense</th>\n",
       "      <th>raptor_total</th>\n",
       "      <th>war_total</th>\n",
       "      <th>war_reg_season</th>\n",
       "      <th>war_playoffs</th>\n",
       "      <th>predator_offense</th>\n",
       "      <th>predator_defense</th>\n",
       "      <th>predator_total</th>\n",
       "      <th>pace_impact</th>\n",
       "    </tr>\n",
       "  </thead>\n",
       "  <tbody>\n",
       "    <tr>\n",
       "      <td>0</td>\n",
       "      <td>Alex Abrines</td>\n",
       "      <td>abrinal01</td>\n",
       "      <td>2017</td>\n",
       "      <td>2387</td>\n",
       "      <td>1135</td>\n",
       "      <td>0.745505</td>\n",
       "      <td>-0.372938</td>\n",
       "      <td>0.372567</td>\n",
       "      <td>-0.418553</td>\n",
       "      <td>-3.857011</td>\n",
       "      <td>...</td>\n",
       "      <td>0.543421</td>\n",
       "      <td>-1.144832</td>\n",
       "      <td>-0.601411</td>\n",
       "      <td>1.249008</td>\n",
       "      <td>1.447708</td>\n",
       "      <td>-0.198700</td>\n",
       "      <td>0.077102</td>\n",
       "      <td>-1.038677</td>\n",
       "      <td>-0.961575</td>\n",
       "      <td>0.326413</td>\n",
       "    </tr>\n",
       "    <tr>\n",
       "      <td>1</td>\n",
       "      <td>Alex Abrines</td>\n",
       "      <td>abrinal01</td>\n",
       "      <td>2018</td>\n",
       "      <td>2546</td>\n",
       "      <td>1244</td>\n",
       "      <td>0.317549</td>\n",
       "      <td>-1.725325</td>\n",
       "      <td>-1.407776</td>\n",
       "      <td>-1.291727</td>\n",
       "      <td>-0.049694</td>\n",
       "      <td>...</td>\n",
       "      <td>-0.020826</td>\n",
       "      <td>-1.502642</td>\n",
       "      <td>-1.523468</td>\n",
       "      <td>0.777304</td>\n",
       "      <td>0.465912</td>\n",
       "      <td>0.311392</td>\n",
       "      <td>-0.174621</td>\n",
       "      <td>-1.112625</td>\n",
       "      <td>-1.287247</td>\n",
       "      <td>-0.456141</td>\n",
       "    </tr>\n",
       "    <tr>\n",
       "      <td>2</td>\n",
       "      <td>Alex Abrines</td>\n",
       "      <td>abrinal01</td>\n",
       "      <td>2019</td>\n",
       "      <td>1279</td>\n",
       "      <td>588</td>\n",
       "      <td>-3.215683</td>\n",
       "      <td>1.078399</td>\n",
       "      <td>-2.137285</td>\n",
       "      <td>-6.158856</td>\n",
       "      <td>4.901168</td>\n",
       "      <td>...</td>\n",
       "      <td>-4.040157</td>\n",
       "      <td>1.885618</td>\n",
       "      <td>-2.154538</td>\n",
       "      <td>0.178167</td>\n",
       "      <td>0.178167</td>\n",
       "      <td>0.000000</td>\n",
       "      <td>-4.577678</td>\n",
       "      <td>1.543282</td>\n",
       "      <td>-3.034396</td>\n",
       "      <td>-0.268013</td>\n",
       "    </tr>\n",
       "    <tr>\n",
       "      <td>3</td>\n",
       "      <td>Quincy Acy</td>\n",
       "      <td>acyqu01</td>\n",
       "      <td>2014</td>\n",
       "      <td>1716</td>\n",
       "      <td>847</td>\n",
       "      <td>-1.716079</td>\n",
       "      <td>0.133115</td>\n",
       "      <td>-1.582964</td>\n",
       "      <td>-0.324811</td>\n",
       "      <td>-1.661495</td>\n",
       "      <td>...</td>\n",
       "      <td>-1.565257</td>\n",
       "      <td>-0.216477</td>\n",
       "      <td>-1.781734</td>\n",
       "      <td>0.415918</td>\n",
       "      <td>0.415918</td>\n",
       "      <td>0.000000</td>\n",
       "      <td>-1.464417</td>\n",
       "      <td>-0.223754</td>\n",
       "      <td>-1.688171</td>\n",
       "      <td>-0.554898</td>\n",
       "    </tr>\n",
       "    <tr>\n",
       "      <td>4</td>\n",
       "      <td>Quincy Acy</td>\n",
       "      <td>acyqu01</td>\n",
       "      <td>2015</td>\n",
       "      <td>2517</td>\n",
       "      <td>1287</td>\n",
       "      <td>-2.014956</td>\n",
       "      <td>-1.268440</td>\n",
       "      <td>-3.283396</td>\n",
       "      <td>-3.855207</td>\n",
       "      <td>2.803842</td>\n",
       "      <td>...</td>\n",
       "      <td>-2.456065</td>\n",
       "      <td>-0.420948</td>\n",
       "      <td>-2.877013</td>\n",
       "      <td>-0.083313</td>\n",
       "      <td>-0.083313</td>\n",
       "      <td>0.000000</td>\n",
       "      <td>-2.797224</td>\n",
       "      <td>-1.648024</td>\n",
       "      <td>-4.445248</td>\n",
       "      <td>-0.100454</td>\n",
       "    </tr>\n",
       "  </tbody>\n",
       "</table>\n",
       "<p>5 rows × 21 columns</p>\n",
       "</div>"
      ],
      "text/plain": [
       "    player_name  player_id  season  poss    mp  raptor_box_offense  \\\n",
       "0  Alex Abrines  abrinal01    2017  2387  1135            0.745505   \n",
       "1  Alex Abrines  abrinal01    2018  2546  1244            0.317549   \n",
       "2  Alex Abrines  abrinal01    2019  1279   588           -3.215683   \n",
       "3    Quincy Acy    acyqu01    2014  1716   847           -1.716079   \n",
       "4    Quincy Acy    acyqu01    2015  2517  1287           -2.014956   \n",
       "\n",
       "   raptor_box_defense  raptor_box_total  raptor_onoff_offense  \\\n",
       "0           -0.372938          0.372567             -0.418553   \n",
       "1           -1.725325         -1.407776             -1.291727   \n",
       "2            1.078399         -2.137285             -6.158856   \n",
       "3            0.133115         -1.582964             -0.324811   \n",
       "4           -1.268440         -3.283396             -3.855207   \n",
       "\n",
       "   raptor_onoff_defense  ...  raptor_offense  raptor_defense  raptor_total  \\\n",
       "0             -3.857011  ...        0.543421       -1.144832     -0.601411   \n",
       "1             -0.049694  ...       -0.020826       -1.502642     -1.523468   \n",
       "2              4.901168  ...       -4.040157        1.885618     -2.154538   \n",
       "3             -1.661495  ...       -1.565257       -0.216477     -1.781734   \n",
       "4              2.803842  ...       -2.456065       -0.420948     -2.877013   \n",
       "\n",
       "   war_total  war_reg_season  war_playoffs  predator_offense  \\\n",
       "0   1.249008        1.447708     -0.198700          0.077102   \n",
       "1   0.777304        0.465912      0.311392         -0.174621   \n",
       "2   0.178167        0.178167      0.000000         -4.577678   \n",
       "3   0.415918        0.415918      0.000000         -1.464417   \n",
       "4  -0.083313       -0.083313      0.000000         -2.797224   \n",
       "\n",
       "   predator_defense  predator_total  pace_impact  \n",
       "0         -1.038677       -0.961575     0.326413  \n",
       "1         -1.112625       -1.287247    -0.456141  \n",
       "2          1.543282       -3.034396    -0.268013  \n",
       "3         -0.223754       -1.688171    -0.554898  \n",
       "4         -1.648024       -4.445248    -0.100454  \n",
       "\n",
       "[5 rows x 21 columns]"
      ]
     },
     "execution_count": 2,
     "metadata": {},
     "output_type": "execute_result"
    }
   ],
   "source": [
    "premise_file = \"Resources/modern_RAPTOR_by_player.csv\"\n",
    "# premise_file = \"Resources/modern_RAPTOR_by_team.csv\"\n",
    "premise_data_df = pd.read_csv(premise_file)\n",
    "premise_data_df.head()"
   ]
  },
  {
   "cell_type": "code",
   "execution_count": 3,
   "metadata": {},
   "outputs": [
    {
     "ename": "KeyError",
     "evalue": "'season_type'",
     "output_type": "error",
     "traceback": [
      "\u001b[1;31m---------------------------------------------------------------------------\u001b[0m",
      "\u001b[1;31mKeyError\u001b[0m                                  Traceback (most recent call last)",
      "\u001b[1;32mC:\\Users\\Public\\Anaconda3\\envs\\PythonData1\\lib\\site-packages\\pandas\\core\\indexes\\base.py\u001b[0m in \u001b[0;36mget_loc\u001b[1;34m(self, key, method, tolerance)\u001b[0m\n\u001b[0;32m   2896\u001b[0m             \u001b[1;32mtry\u001b[0m\u001b[1;33m:\u001b[0m\u001b[1;33m\u001b[0m\u001b[1;33m\u001b[0m\u001b[0m\n\u001b[1;32m-> 2897\u001b[1;33m                 \u001b[1;32mreturn\u001b[0m \u001b[0mself\u001b[0m\u001b[1;33m.\u001b[0m\u001b[0m_engine\u001b[0m\u001b[1;33m.\u001b[0m\u001b[0mget_loc\u001b[0m\u001b[1;33m(\u001b[0m\u001b[0mkey\u001b[0m\u001b[1;33m)\u001b[0m\u001b[1;33m\u001b[0m\u001b[1;33m\u001b[0m\u001b[0m\n\u001b[0m\u001b[0;32m   2898\u001b[0m             \u001b[1;32mexcept\u001b[0m \u001b[0mKeyError\u001b[0m\u001b[1;33m:\u001b[0m\u001b[1;33m\u001b[0m\u001b[1;33m\u001b[0m\u001b[0m\n",
      "\u001b[1;32mpandas\\_libs\\index.pyx\u001b[0m in \u001b[0;36mpandas._libs.index.IndexEngine.get_loc\u001b[1;34m()\u001b[0m\n",
      "\u001b[1;32mpandas\\_libs\\index.pyx\u001b[0m in \u001b[0;36mpandas._libs.index.IndexEngine.get_loc\u001b[1;34m()\u001b[0m\n",
      "\u001b[1;32mpandas\\_libs\\hashtable_class_helper.pxi\u001b[0m in \u001b[0;36mpandas._libs.hashtable.PyObjectHashTable.get_item\u001b[1;34m()\u001b[0m\n",
      "\u001b[1;32mpandas\\_libs\\hashtable_class_helper.pxi\u001b[0m in \u001b[0;36mpandas._libs.hashtable.PyObjectHashTable.get_item\u001b[1;34m()\u001b[0m\n",
      "\u001b[1;31mKeyError\u001b[0m: 'season_type'",
      "\nDuring handling of the above exception, another exception occurred:\n",
      "\u001b[1;31mKeyError\u001b[0m                                  Traceback (most recent call last)",
      "\u001b[1;32m<ipython-input-3-760936402c71>\u001b[0m in \u001b[0;36m<module>\u001b[1;34m\u001b[0m\n\u001b[0;32m      1\u001b[0m \u001b[0mpremise_data_df\u001b[0m \u001b[1;33m=\u001b[0m \u001b[0mpremise_data_df\u001b[0m\u001b[1;33m.\u001b[0m\u001b[0mloc\u001b[0m\u001b[1;33m[\u001b[0m\u001b[0mpremise_data_df\u001b[0m\u001b[1;33m[\u001b[0m\u001b[1;34m'season'\u001b[0m\u001b[1;33m]\u001b[0m \u001b[1;33m==\u001b[0m \u001b[1;36m2019\u001b[0m\u001b[1;33m]\u001b[0m\u001b[1;33m\u001b[0m\u001b[1;33m\u001b[0m\u001b[0m\n\u001b[1;32m----> 2\u001b[1;33m \u001b[0mpremise_data_df\u001b[0m \u001b[1;33m=\u001b[0m \u001b[0mpremise_data_df\u001b[0m\u001b[1;33m.\u001b[0m\u001b[0mloc\u001b[0m\u001b[1;33m[\u001b[0m\u001b[0mpremise_data_df\u001b[0m\u001b[1;33m[\u001b[0m\u001b[1;34m'season_type'\u001b[0m\u001b[1;33m]\u001b[0m \u001b[1;33m==\u001b[0m \u001b[1;34m'RS'\u001b[0m\u001b[1;33m]\u001b[0m\u001b[1;33m\u001b[0m\u001b[1;33m\u001b[0m\u001b[0m\n\u001b[0m\u001b[0;32m      3\u001b[0m \u001b[0mpremise_data_df\u001b[0m\u001b[1;33m.\u001b[0m\u001b[0mhead\u001b[0m\u001b[1;33m(\u001b[0m\u001b[1;33m)\u001b[0m\u001b[1;33m\u001b[0m\u001b[1;33m\u001b[0m\u001b[0m\n",
      "\u001b[1;32mC:\\Users\\Public\\Anaconda3\\envs\\PythonData1\\lib\\site-packages\\pandas\\core\\frame.py\u001b[0m in \u001b[0;36m__getitem__\u001b[1;34m(self, key)\u001b[0m\n\u001b[0;32m   2978\u001b[0m             \u001b[1;32mif\u001b[0m \u001b[0mself\u001b[0m\u001b[1;33m.\u001b[0m\u001b[0mcolumns\u001b[0m\u001b[1;33m.\u001b[0m\u001b[0mnlevels\u001b[0m \u001b[1;33m>\u001b[0m \u001b[1;36m1\u001b[0m\u001b[1;33m:\u001b[0m\u001b[1;33m\u001b[0m\u001b[1;33m\u001b[0m\u001b[0m\n\u001b[0;32m   2979\u001b[0m                 \u001b[1;32mreturn\u001b[0m \u001b[0mself\u001b[0m\u001b[1;33m.\u001b[0m\u001b[0m_getitem_multilevel\u001b[0m\u001b[1;33m(\u001b[0m\u001b[0mkey\u001b[0m\u001b[1;33m)\u001b[0m\u001b[1;33m\u001b[0m\u001b[1;33m\u001b[0m\u001b[0m\n\u001b[1;32m-> 2980\u001b[1;33m             \u001b[0mindexer\u001b[0m \u001b[1;33m=\u001b[0m \u001b[0mself\u001b[0m\u001b[1;33m.\u001b[0m\u001b[0mcolumns\u001b[0m\u001b[1;33m.\u001b[0m\u001b[0mget_loc\u001b[0m\u001b[1;33m(\u001b[0m\u001b[0mkey\u001b[0m\u001b[1;33m)\u001b[0m\u001b[1;33m\u001b[0m\u001b[1;33m\u001b[0m\u001b[0m\n\u001b[0m\u001b[0;32m   2981\u001b[0m             \u001b[1;32mif\u001b[0m \u001b[0mis_integer\u001b[0m\u001b[1;33m(\u001b[0m\u001b[0mindexer\u001b[0m\u001b[1;33m)\u001b[0m\u001b[1;33m:\u001b[0m\u001b[1;33m\u001b[0m\u001b[1;33m\u001b[0m\u001b[0m\n\u001b[0;32m   2982\u001b[0m                 \u001b[0mindexer\u001b[0m \u001b[1;33m=\u001b[0m \u001b[1;33m[\u001b[0m\u001b[0mindexer\u001b[0m\u001b[1;33m]\u001b[0m\u001b[1;33m\u001b[0m\u001b[1;33m\u001b[0m\u001b[0m\n",
      "\u001b[1;32mC:\\Users\\Public\\Anaconda3\\envs\\PythonData1\\lib\\site-packages\\pandas\\core\\indexes\\base.py\u001b[0m in \u001b[0;36mget_loc\u001b[1;34m(self, key, method, tolerance)\u001b[0m\n\u001b[0;32m   2897\u001b[0m                 \u001b[1;32mreturn\u001b[0m \u001b[0mself\u001b[0m\u001b[1;33m.\u001b[0m\u001b[0m_engine\u001b[0m\u001b[1;33m.\u001b[0m\u001b[0mget_loc\u001b[0m\u001b[1;33m(\u001b[0m\u001b[0mkey\u001b[0m\u001b[1;33m)\u001b[0m\u001b[1;33m\u001b[0m\u001b[1;33m\u001b[0m\u001b[0m\n\u001b[0;32m   2898\u001b[0m             \u001b[1;32mexcept\u001b[0m \u001b[0mKeyError\u001b[0m\u001b[1;33m:\u001b[0m\u001b[1;33m\u001b[0m\u001b[1;33m\u001b[0m\u001b[0m\n\u001b[1;32m-> 2899\u001b[1;33m                 \u001b[1;32mreturn\u001b[0m \u001b[0mself\u001b[0m\u001b[1;33m.\u001b[0m\u001b[0m_engine\u001b[0m\u001b[1;33m.\u001b[0m\u001b[0mget_loc\u001b[0m\u001b[1;33m(\u001b[0m\u001b[0mself\u001b[0m\u001b[1;33m.\u001b[0m\u001b[0m_maybe_cast_indexer\u001b[0m\u001b[1;33m(\u001b[0m\u001b[0mkey\u001b[0m\u001b[1;33m)\u001b[0m\u001b[1;33m)\u001b[0m\u001b[1;33m\u001b[0m\u001b[1;33m\u001b[0m\u001b[0m\n\u001b[0m\u001b[0;32m   2900\u001b[0m         \u001b[0mindexer\u001b[0m \u001b[1;33m=\u001b[0m \u001b[0mself\u001b[0m\u001b[1;33m.\u001b[0m\u001b[0mget_indexer\u001b[0m\u001b[1;33m(\u001b[0m\u001b[1;33m[\u001b[0m\u001b[0mkey\u001b[0m\u001b[1;33m]\u001b[0m\u001b[1;33m,\u001b[0m \u001b[0mmethod\u001b[0m\u001b[1;33m=\u001b[0m\u001b[0mmethod\u001b[0m\u001b[1;33m,\u001b[0m \u001b[0mtolerance\u001b[0m\u001b[1;33m=\u001b[0m\u001b[0mtolerance\u001b[0m\u001b[1;33m)\u001b[0m\u001b[1;33m\u001b[0m\u001b[1;33m\u001b[0m\u001b[0m\n\u001b[0;32m   2901\u001b[0m         \u001b[1;32mif\u001b[0m \u001b[0mindexer\u001b[0m\u001b[1;33m.\u001b[0m\u001b[0mndim\u001b[0m \u001b[1;33m>\u001b[0m \u001b[1;36m1\u001b[0m \u001b[1;32mor\u001b[0m \u001b[0mindexer\u001b[0m\u001b[1;33m.\u001b[0m\u001b[0msize\u001b[0m \u001b[1;33m>\u001b[0m \u001b[1;36m1\u001b[0m\u001b[1;33m:\u001b[0m\u001b[1;33m\u001b[0m\u001b[1;33m\u001b[0m\u001b[0m\n",
      "\u001b[1;32mpandas\\_libs\\index.pyx\u001b[0m in \u001b[0;36mpandas._libs.index.IndexEngine.get_loc\u001b[1;34m()\u001b[0m\n",
      "\u001b[1;32mpandas\\_libs\\index.pyx\u001b[0m in \u001b[0;36mpandas._libs.index.IndexEngine.get_loc\u001b[1;34m()\u001b[0m\n",
      "\u001b[1;32mpandas\\_libs\\hashtable_class_helper.pxi\u001b[0m in \u001b[0;36mpandas._libs.hashtable.PyObjectHashTable.get_item\u001b[1;34m()\u001b[0m\n",
      "\u001b[1;32mpandas\\_libs\\hashtable_class_helper.pxi\u001b[0m in \u001b[0;36mpandas._libs.hashtable.PyObjectHashTable.get_item\u001b[1;34m()\u001b[0m\n",
      "\u001b[1;31mKeyError\u001b[0m: 'season_type'"
     ]
    }
   ],
   "source": [
    "premise_data_df = premise_data_df.loc[premise_data_df['season'] == 2019]\n",
    "premise_data_df = premise_data_df.loc[premise_data_df['season_type'] == 'RS']\n",
    "premise_data_df.head()"
   ]
  },
  {
   "cell_type": "code",
   "execution_count": null,
   "metadata": {},
   "outputs": [],
   "source": [
    "new_premise_df = premise_data_df[[\"player_name\",\"player_id\", \"season\",\"war_total\"]].copy()"
   ]
  },
  {
   "cell_type": "markdown",
   "metadata": {},
   "source": [
    "### Transform premise DataFrame"
   ]
  },
  {
   "cell_type": "code",
   "execution_count": null,
   "metadata": {},
   "outputs": [],
   "source": [
    "new_premise_df = new_premise_df.drop_duplicates()\n",
    "new_premise_df.head()"
   ]
  },
  {
   "cell_type": "markdown",
   "metadata": {},
   "source": [
    "### Create database connection"
   ]
  },
  {
   "cell_type": "code",
   "execution_count": null,
   "metadata": {},
   "outputs": [],
   "source": [
    "rds_connection_string = user + \":\" + password + \"@localhost:5432/customer_db\"\n",
    "engine = create_engine(f'postgresql://{rds_connection_string}')"
   ]
  },
  {
   "cell_type": "code",
   "execution_count": null,
   "metadata": {},
   "outputs": [],
   "source": [
    "# Confirm tables\n",
    "engine.table_names()"
   ]
  },
  {
   "cell_type": "markdown",
   "metadata": {},
   "source": [
    "### Load DataFrames into database"
   ]
  },
  {
   "cell_type": "code",
   "execution_count": null,
   "metadata": {},
   "outputs": [],
   "source": [
    "new_premise_df.to_sql(name='PlayerData', con=engine, if_exists='append', index=False)"
   ]
  },
  {
   "cell_type": "code",
   "execution_count": null,
   "metadata": {},
   "outputs": [],
   "source": []
  }
 ],
 "metadata": {
  "kernelspec": {
   "display_name": "Python 3",
   "language": "python",
   "name": "python3"
  },
  "language_info": {
   "codemirror_mode": {
    "name": "ipython",
    "version": 3
   },
   "file_extension": ".py",
   "mimetype": "text/x-python",
   "name": "python",
   "nbconvert_exporter": "python",
   "pygments_lexer": "ipython3",
   "version": "3.6.9"
  },
  "toc": {
   "base_numbering": 1,
   "nav_menu": {},
   "number_sections": true,
   "sideBar": true,
   "skip_h1_title": false,
   "title_cell": "Table of Contents",
   "title_sidebar": "Contents",
   "toc_cell": false,
   "toc_position": {},
   "toc_section_display": true,
   "toc_window_display": false
  }
 },
 "nbformat": 4,
 "nbformat_minor": 2
}
