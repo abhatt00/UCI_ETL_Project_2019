{
 "cells": [
  {
   "cell_type": "code",
   "execution_count": 1,
   "metadata": {},
   "outputs": [],
   "source": [
    "import pandas as pd\n",
    "import json\n",
    "from sqlalchemy import create_engine\n",
    "from config import user,password"
   ]
  },
  {
   "cell_type": "markdown",
   "metadata": {},
   "source": [
    "### Extract CSVs into DataFrames"
   ]
  },
  {
   "cell_type": "code",
   "execution_count": 27,
   "metadata": {},
   "outputs": [],
   "source": [
    "# json_file = 'Resources/20191103_LALSAS.json'\n",
    "# json_file = 'Resources/20191105_LALCHI.json'\n",
    "# json_file = 'Resources/20191108_LALMIA.json'\n",
    "# json_file = 'Resources/20191110_LALTOR.json'\n",
    "# json_file = 'Resources/20191112_LALPHX.json'\n",
    "json_file = 'Resources/20191113_LALGSW.json'\n",
    "\n",
    "if json_file:\n",
    "    with open(json_file, 'r') as f:\n",
    "        datastore = json.load(f)\n",
    "# dfdf = pd.read_json(json_file)\n",
    "# dfdf\n",
    "event= []\n",
    "clock= []\n",
    "description = []\n",
    "player_code = []\n",
    "person_id = []\n",
    "home_score = []\n",
    "visitor_score = []\n",
    "team_abr = []\n",
    "period = []\n",
    "datastore['sports_content']['game']['play']\n",
    "for i in datastore['sports_content']['game']['play']:\n",
    "    event.append(i['event'])\n",
    "    clock.append(i['clock'])\n",
    "    description.append(i['description'])\n",
    "    player_code.append(i['player_code'])\n",
    "    person_id.append(i['person_id'])\n",
    "    home_score.append(i['home_score'])\n",
    "    visitor_score.append(i['visitor_score'])\n",
    "    team_abr.append(i['team_abr'])\n",
    "    period.append(i['period'])\n"
   ]
  },
  {
   "cell_type": "code",
   "execution_count": 28,
   "metadata": {},
   "outputs": [
    {
     "data": {
      "text/html": [
       "<div>\n",
       "<style scoped>\n",
       "    .dataframe tbody tr th:only-of-type {\n",
       "        vertical-align: middle;\n",
       "    }\n",
       "\n",
       "    .dataframe tbody tr th {\n",
       "        vertical-align: top;\n",
       "    }\n",
       "\n",
       "    .dataframe thead th {\n",
       "        text-align: right;\n",
       "    }\n",
       "</style>\n",
       "<table border=\"1\" class=\"dataframe\">\n",
       "  <thead>\n",
       "    <tr style=\"text-align: right;\">\n",
       "      <th></th>\n",
       "      <th>event</th>\n",
       "      <th>clock</th>\n",
       "      <th>description</th>\n",
       "      <th>player_code</th>\n",
       "      <th>person_id</th>\n",
       "      <th>home_score</th>\n",
       "      <th>visitor_score</th>\n",
       "      <th>team_abr</th>\n",
       "      <th>period</th>\n",
       "    </tr>\n",
       "  </thead>\n",
       "  <tbody>\n",
       "    <tr>\n",
       "      <td>0</td>\n",
       "      <td>2</td>\n",
       "      <td></td>\n",
       "      <td>Start Period</td>\n",
       "      <td></td>\n",
       "      <td></td>\n",
       "      <td>0</td>\n",
       "      <td>0</td>\n",
       "      <td>GSW</td>\n",
       "      <td>1</td>\n",
       "    </tr>\n",
       "    <tr>\n",
       "      <td>1</td>\n",
       "      <td>4</td>\n",
       "      <td>11:57</td>\n",
       "      <td>Jump Ball McGee vs Cauley-Stein (James gains p...</td>\n",
       "      <td>javale_mcgee</td>\n",
       "      <td>201580</td>\n",
       "      <td>0</td>\n",
       "      <td>0</td>\n",
       "      <td>GSW</td>\n",
       "      <td>1</td>\n",
       "    </tr>\n",
       "    <tr>\n",
       "      <td>2</td>\n",
       "      <td>7</td>\n",
       "      <td>11:53</td>\n",
       "      <td>[LAL 2-0] McGee Alley Oop Layup shot: Made (2 ...</td>\n",
       "      <td>javale_mcgee</td>\n",
       "      <td>201580</td>\n",
       "      <td>2</td>\n",
       "      <td>0</td>\n",
       "      <td>LAL</td>\n",
       "      <td>1</td>\n",
       "    </tr>\n",
       "    <tr>\n",
       "      <td>3</td>\n",
       "      <td>9</td>\n",
       "      <td>11:42</td>\n",
       "      <td>[GSW 3-2] Poole 3pt Shot: Made (3 PTS) Assist:...</td>\n",
       "      <td>jordan_poole</td>\n",
       "      <td>1629673</td>\n",
       "      <td>2</td>\n",
       "      <td>3</td>\n",
       "      <td>GSW</td>\n",
       "      <td>1</td>\n",
       "    </tr>\n",
       "    <tr>\n",
       "      <td>4</td>\n",
       "      <td>11</td>\n",
       "      <td>11:18</td>\n",
       "      <td>[LAL 4-3] James Step Back Jump shot: Made (2 PTS)</td>\n",
       "      <td>lebron_james</td>\n",
       "      <td>2544</td>\n",
       "      <td>4</td>\n",
       "      <td>3</td>\n",
       "      <td>LAL</td>\n",
       "      <td>1</td>\n",
       "    </tr>\n",
       "  </tbody>\n",
       "</table>\n",
       "</div>"
      ],
      "text/plain": [
       "  event  clock                                        description  \\\n",
       "0     2                                              Start Period   \n",
       "1     4  11:57  Jump Ball McGee vs Cauley-Stein (James gains p...   \n",
       "2     7  11:53  [LAL 2-0] McGee Alley Oop Layup shot: Made (2 ...   \n",
       "3     9  11:42  [GSW 3-2] Poole 3pt Shot: Made (3 PTS) Assist:...   \n",
       "4    11  11:18  [LAL 4-3] James Step Back Jump shot: Made (2 PTS)   \n",
       "\n",
       "    player_code person_id home_score visitor_score team_abr period  \n",
       "0                                  0             0      GSW      1  \n",
       "1  javale_mcgee    201580          0             0      GSW      1  \n",
       "2  javale_mcgee    201580          2             0      LAL      1  \n",
       "3  jordan_poole   1629673          2             3      GSW      1  \n",
       "4  lebron_james      2544          4             3      LAL      1  "
      ]
     },
     "execution_count": 28,
     "metadata": {},
     "output_type": "execute_result"
    }
   ],
   "source": [
    "gameframe = pd.DataFrame({'event' : event,'clock' : clock,'description' : description, 'player_code':player_code,'person_id':person_id,'home_score':home_score,'visitor_score':visitor_score,'team_abr':team_abr,'period':period})\n",
    "gameframe.head()"
   ]
  },
  {
   "cell_type": "code",
   "execution_count": 29,
   "metadata": {},
   "outputs": [],
   "source": [
    "rds_connection_string = user + \":\" + password + \"@localhost:5432/customer_db\"\n",
    "engine = create_engine(f'postgresql://{rds_connection_string}')"
   ]
  },
  {
   "cell_type": "code",
   "execution_count": 30,
   "metadata": {},
   "outputs": [
    {
     "data": {
      "text/plain": [
       "['LALSAS20191103',\n",
       " 'LALCHI20191105',\n",
       " 'LALMIA20191108',\n",
       " 'LALTOR20191110',\n",
       " 'LALPHX20191112']"
      ]
     },
     "execution_count": 30,
     "metadata": {},
     "output_type": "execute_result"
    }
   ],
   "source": [
    "# Confirm tables\n",
    "engine.table_names()"
   ]
  },
  {
   "cell_type": "code",
   "execution_count": 31,
   "metadata": {},
   "outputs": [],
   "source": [
    "gameframe.to_sql(name='LALGSW20191113', con=engine, if_exists='append', index=False)"
   ]
  },
  {
   "cell_type": "code",
   "execution_count": null,
   "metadata": {},
   "outputs": [],
   "source": []
  }
 ],
 "metadata": {
  "kernelspec": {
   "display_name": "Python 3",
   "language": "python",
   "name": "python3"
  },
  "language_info": {
   "codemirror_mode": {
    "name": "ipython",
    "version": 3
   },
   "file_extension": ".py",
   "mimetype": "text/x-python",
   "name": "python",
   "nbconvert_exporter": "python",
   "pygments_lexer": "ipython3",
   "version": "3.6.9"
  },
  "toc": {
   "base_numbering": 1,
   "nav_menu": {},
   "number_sections": true,
   "sideBar": true,
   "skip_h1_title": false,
   "title_cell": "Table of Contents",
   "title_sidebar": "Contents",
   "toc_cell": false,
   "toc_position": {},
   "toc_section_display": true,
   "toc_window_display": false
  }
 },
 "nbformat": 4,
 "nbformat_minor": 2
}
